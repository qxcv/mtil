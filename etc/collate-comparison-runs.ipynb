{
 "cells": [
  {
   "cell_type": "markdown",
   "metadata": {},
   "source": [
    "# Collating results from `comparison_runs.py`\n",
    "\n",
    "Going to use this for both CS287H report and my paper. Might copy some portions from `collate_csvs.py`, which this notebook supersedes."
   ]
  },
  {
   "cell_type": "code",
   "execution_count": null,
   "metadata": {},
   "outputs": [],
   "source": [
    "%matplotlib inline\n",
    "import collections\n",
    "import colorsys\n",
    "import glob\n",
    "import os\n",
    "import re\n",
    "import sys\n",
    "\n",
    "import matplotlib.pyplot as plt\n",
    "import seaborn as sns\n",
    "import numpy as np\n",
    "import pandas as pd\n",
    "\n",
    "sys.path.append('.')\n",
    "from comparison_runs import EnvName\n",
    "del sys.path[-1]\n",
    "\n",
    "sns.set(context='paper', style='darkgrid')"
   ]
  },
  {
   "cell_type": "code",
   "execution_count": null,
   "metadata": {},
   "outputs": [],
   "source": [
    "CSV_PATTERN = '../scratch/runs-1seed-svm-2020-05-11/run_*/eval-*.csv'"
   ]
  },
  {
   "cell_type": "code",
   "execution_count": null,
   "metadata": {},
   "outputs": [],
   "source": [
    "csv_paths = glob.glob(os.path.expanduser(CSV_PATTERN))\n",
    "print(f\"Found {len(csv_paths)} CSV files\")\n",
    "loaded_csvs = [pd.read_csv(c) for c in csv_paths]\n",
    "frame = pd.concat(loaded_csvs)\n",
    "frame"
   ]
  },
  {
   "cell_type": "markdown",
   "metadata": {},
   "source": [
    "Now going to add some extra data:\n",
    "\n",
    "- Human-readable test variant names.\n",
    "- String-formatted mean and median for the LaTeX tables."
   ]
  },
  {
   "cell_type": "code",
   "execution_count": null,
   "metadata": {},
   "outputs": [],
   "source": [
    "def to_variant(env_name):\n",
    "    en = EnvName(env_name)\n",
    "    return en.demo_test_spec.strip('-')\n",
    "\n",
    "def to_prefix(env_name):\n",
    "    en = EnvName(env_name)\n",
    "    return en.name_prefix.strip('-')\n",
    "\n",
    "frame['variant'] = frame['test_env'].map(to_variant)\n",
    "frame['env_prefix'] = frame['demo_env'].map(to_prefix)"
   ]
  },
  {
   "cell_type": "markdown",
   "metadata": {},
   "source": [
    "## Separate tables for each task\n",
    "\n",
    "Here I'm going to create separate LaTeX tables for each task. Each row will be a method, and each column will be a variant, with cells showing both mean and standard deviation of performance. Should have the same set of columns for each method."
   ]
  },
  {
   "cell_type": "code",
   "execution_count": null,
   "metadata": {},
   "outputs": [],
   "source": [
    "VARIANT_SHORT_NAMES = collections.OrderedDict([\n",
    "  (\"Demo\", \"Demo\"),\n",
    "  (\"TestJitter\", \"Jitter\"),\n",
    "  (\"TestLayout\", \"Layout\"),\n",
    "  (\"TestColour\", \"Colour\"),\n",
    "  (\"TestShape\", \"Shape\"),\n",
    "  (\"TestCountPlus\", \"CountPlus\"),\n",
    "  (\"TestDynamics\", \"Dynamics\"),\n",
    "  (\"TestAll\", \"All\"),\n",
    "])\n",
    "VARIANT_ORDER = {\n",
    "    env_name: index for index, env_name\n",
    "    in enumerate(VARIANT_SHORT_NAMES.keys())\n",
    "}\n",
    "PROBLEM_PREFIX_ORDER = [\n",
    "    'MoveToCorner',\n",
    "    'MoveToRegion',\n",
    "    'MatchRegions',\n",
    "    'FindDupe',\n",
    "    'ClusterColour',\n",
    "    'ClusterType',\n",
    "]"
   ]
  },
  {
   "cell_type": "markdown",
   "metadata": {},
   "source": [
    "Going to do some sanity checks on the variants to make sure that none are missing from `VARIANT_SHORT_NAMES` or `VARIANT_ORDER`."
   ]
  },
  {
   "cell_type": "code",
   "execution_count": null,
   "metadata": {},
   "outputs": [],
   "source": [
    "all_variants = set(frame['variant'].unique())\n",
    "missing = all_variants - VARIANT_ORDER.keys()\n",
    "if missing:\n",
    "    print(f\"{len(missing)} variants are missing:\")\n",
    "    print(sorted(missing))\n",
    "    assert False, 'figure out what is going wrong!'"
   ]
  },
  {
   "cell_type": "code",
   "execution_count": null,
   "metadata": {},
   "outputs": [],
   "source": [
    "def convert_method_name(name):\n",
    "    # TODO: fix my config file so that it includes human-readable names. That should avoid this problem :)\n",
    "    \n",
    "    # remove the \"on-<task>\" suffix\n",
    "    suffix_re = re.compile(r'-on-(find-|cluster-|match-|move-|move-)[a-z-]*$')\n",
    "    name = suffix_re.sub('', name)\n",
    "\n",
    "    # figure out the algorithm prefix (\"BC\" or \"GAIL\")\n",
    "    prefix_re = re.compile(r'(bc|gail)(-.*)?')\n",
    "    match = prefix_re.fullmatch(name)\n",
    "    if not match:\n",
    "        return name  # not handled\n",
    "    prefix, name = match.groups()\n",
    "    name = name.strip('-') if name is not None else ''\n",
    "    prefix = prefix.upper()\n",
    "    \n",
    "    # now handle the rest\n",
    "    if name == 'mt':\n",
    "        full_name = prefix + ' (MT)'\n",
    "    elif name == '':\n",
    "        full_name = prefix\n",
    "    else:\n",
    "        full_name = f'{prefix} ({name})'\n",
    "\n",
    "    return full_name"
   ]
  },
  {
   "cell_type": "code",
   "execution_count": null,
   "metadata": {},
   "outputs": [],
   "source": [
    "def lighten(rgba):\n",
    "    assert len(rgba) == 4, len(rgba)\n",
    "    rgb = rgba[:3]\n",
    "    a = rgba = rgba[3]\n",
    "    h, l, s = colorsys.rgb_to_hls(*rgb)\n",
    "    l = 1 - (1 - l) * a\n",
    "    rgb = colorsys.hls_to_rgb(h, l, s)\n",
    "    return rgb\n",
    "\n",
    "def assign_colours(values, legend=False):\n",
    "    r\"\"\"Create the LaTeX \\cellcolor commands necessary for a series of values.\n",
    "    Values are assumed to be in [0,1].\"\"\"\n",
    "    # (requires \\usepackage[table]{xcolor}, per\n",
    "    # https://tex.stackexchange.com/a/50351)\n",
    "    values = np.asarray(values)\n",
    "    values[values < 0] = 0\n",
    "    values[values > 1] = 1\n",
    "    cmap = plt.get_cmap('Blues')\n",
    "    cols_rgba = cmap(values, alpha=0.2)\n",
    "    cols_rgb = map(lighten, cols_rgba)\n",
    "    if legend:\n",
    "        # a crude LaTeX colour gradient\n",
    "        return r'\\!'.join(r'\\crule{%.2f,%.2f,%.2f}' % spec for spec in cols_rgb)\n",
    "    else:\n",
    "        specs = [\n",
    "            r'\\cellcolor[rgb]{%.2f,%.2f,%.2f}' % tuple(spec)\n",
    "            for spec in cols_rgb\n",
    "        ]\n",
    "    return specs\n",
    "\n",
    "def compute_cell_contents(tab):\n",
    "    (_, col_name), *_ = tab.columns.to_flat_index()\n",
    "    mean_series = tab['mean_score'].squeeze()\n",
    "    std_series = tab['std_score'].squeeze()\n",
    "    cols = assign_colours(mean_series)\n",
    "    result_list = [\n",
    "        r'%s %.2f (%.2f)' % col_mu_std\n",
    "        for col_mu_std in zip(cols, mean_series, std_series)\n",
    "    ]\n",
    "    # now construct a new frame with column name taken from 'tab', and indices\n",
    "    # taken from 'mean_series' and 'std_series'\n",
    "    contents = pd.Series(data=result_list, index=tab.index, name=col_name)\n",
    "    return contents\n",
    "\n",
    "print('Colour scale:', assign_colours(np.linspace(0, 1, 8), legend=True))\n",
    "print('')\n",
    "\n",
    "demo_envs = sorted(\n",
    "    frame['demo_env'].unique(),\n",
    "    key=lambda s: PROBLEM_PREFIX_ORDER.index(s.split('-')[0]))\n",
    "out_lines = []\n",
    "for demo_env in demo_envs:\n",
    "    prefix = to_prefix(demo_env)\n",
    "    subset = frame[frame['demo_env'] == demo_env]\n",
    "    pivot = subset.pivot(index='latex_alg_name',\n",
    "                         columns='variant',\n",
    "                         values=['mean_score', 'std_score'])\n",
    "    renamed_pivot = pivot.groupby(axis=1, level=1).apply(compute_cell_contents)\n",
    "    for col_name in VARIANT_SHORT_NAMES:\n",
    "        if col_name not in renamed_pivot.columns:\n",
    "            renamed_pivot[col_name] = '-'\n",
    "    sorted_pivot = renamed_pivot[list(VARIANT_SHORT_NAMES)]\n",
    "    sorted_cols = [r'\\textbf{' + VARIANT_SHORT_NAMES.get(c, c) + '}' for c in sorted_pivot.columns]\n",
    "    sorted_pivot.columns = pd.MultiIndex.from_product([(f'\\\\textbf{{{prefix}}}', ), sorted_cols], names=('Task', 'Variant'))\n",
    "    sorted_pivot.index = sorted_pivot.index.map(convert_method_name).rename(\"Method\")\n",
    "    sorted_pivot.sort_index(axis=0, inplace=True)\n",
    "    latex_formatted = sorted_pivot.to_latex(\n",
    "        # label=f'tab:res-{prefix.lower()}',\n",
    "        column_format='l' + 'c' * len(sorted_cols),\n",
    "        bold_rows=True,\n",
    "        escape=False,\n",
    "    ).replace('{l}', '{c}')\n",
    "    print(latex_formatted)\n",
    "    \n",
    "    latex_lines = latex_formatted.splitlines()\n",
    "    if not out_lines:\n",
    "        # keep first few lines\n",
    "        out_lines.extend(latex_lines[:2])\n",
    "    out_lines.extend(latex_lines[2:-2])\n",
    "    if demo_env == demo_envs[-1]:\n",
    "        out_lines.extend(latex_lines[-2:])\n",
    "    else:\n",
    "        out_lines.extend(['', r'\\midrule', ''])\n",
    "\n",
    "print('\\n\\nFull result:\\n')\n",
    "print('\\n'.join(out_lines))"
   ]
  },
  {
   "cell_type": "code",
   "execution_count": null,
   "metadata": {},
   "outputs": [],
   "source": []
  }
 ],
 "metadata": {
  "kernelspec": {
   "display_name": "Python 3",
   "language": "python",
   "name": "python3"
  },
  "language_info": {
   "codemirror_mode": {
    "name": "ipython",
    "version": 3
   },
   "file_extension": ".py",
   "mimetype": "text/x-python",
   "name": "python",
   "nbconvert_exporter": "python",
   "pygments_lexer": "ipython3",
   "version": "3.7.5"
  }
 },
 "nbformat": 4,
 "nbformat_minor": 4
}
