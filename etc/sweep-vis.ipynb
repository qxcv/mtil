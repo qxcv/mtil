{
 "cells": [
  {
   "cell_type": "markdown",
   "metadata": {},
   "source": [
    "# Visualising results of GAIL hyperparmeter sweep"
   ]
  },
  {
   "cell_type": "code",
   "execution_count": null,
   "metadata": {},
   "outputs": [],
   "source": [
    "%matplotlib inline"
   ]
  },
  {
   "cell_type": "code",
   "execution_count": null,
   "metadata": {},
   "outputs": [],
   "source": [
    "import cloudpickle\n",
    "import glob\n",
    "import matplotlib.pyplot as plt\n",
    "import seaborn as sns\n",
    "import pandas as pd\n",
    "import numpy as np\n",
    "from skopt.plots import plot_evaluations, plot_objective"
   ]
  },
  {
   "cell_type": "code",
   "execution_count": null,
   "metadata": {},
   "outputs": [],
   "source": [
    "sns.set(context='notebook', style='darkgrid')"
   ]
  },
  {
   "cell_type": "code",
   "execution_count": null,
   "metadata": {},
   "outputs": [],
   "source": [
    "pickle_path = glob.glob('../ray-tune-results/ray_tune_trial/search-alg-*.pkl')[-1]\n",
    "with open(pickle_path, 'rb') as fp:\n",
    "    _, skopt_alg = cloudpickle.load(fp)\n",
    "skopt_res = skopt_alg.get_result()\n",
    "dim_names = [\n",
    "    'omit_noop', 'disc_up_per_iter', 'disc_replay_mult', 'disc_lr', 'disc_use_act',\n",
    "    'disc_all_frames', 'sampler_time_steps', 'sampler_batch_envs', 'ppo_lr',\n",
    "    'ppo_gamma', 'ppo_lambda', 'ppo_ent', 'ppo_adv_clip', 'ppo_norm_adv'\n",
    "]"
   ]
  },
  {
   "cell_type": "code",
   "execution_count": null,
   "metadata": {},
   "outputs": [],
   "source": [
    "_ = plot_evaluations(skopt_res)  # , dimensions=dim_names)"
   ]
  },
  {
   "cell_type": "code",
   "execution_count": null,
   "metadata": {},
   "outputs": [],
   "source": [
    "_ = plot_objective(skopt_res, n_samples=40) # , minimum='expected_minimum_random', n_minimum_search=1000)  # , dimensions=dim_names)"
   ]
  },
  {
   "cell_type": "code",
   "execution_count": null,
   "metadata": {},
   "outputs": [],
   "source": [
    "n_results = len(skopt_res.func_vals)\n",
    "sns.distplot(skopt_res.func_vals, rug=True, norm_hist=False, kde=False, bins=10 if n_results >= 20 else None)\n",
    "plt.title(f\"Negative final score distribution from {n_results} runs (lower = better)\")\n",
    "plt.xlabel(\"Negative final score\")\n",
    "plt.ylabel(\"Frequency\")\n",
    "plt.show()"
   ]
  },
  {
   "cell_type": "code",
   "execution_count": null,
   "metadata": {},
   "outputs": [],
   "source": [
    "import skopt\n",
    "import matplotlib\n",
    "import jupyterlab\n",
    "print('skopt:', skopt.__version__)\n",
    "print('seaborn:', sns.__version__)\n",
    "print('matplotlib:', matplotlib.__version__)\n",
    "print('jupyterlab:', jupyterlab.__version__)"
   ]
  },
  {
   "cell_type": "code",
   "execution_count": null,
   "metadata": {},
   "outputs": [],
   "source": [
    "from skopt.utils import expected_minimum_random_sampling\n",
    "skopt_min = expected_minimum_random_sampling(skopt_res, n_random_starts=100000)\n",
    "print(\"minimum from random sampling:\", skopt_min)"
   ]
  },
  {
   "cell_type": "code",
   "execution_count": null,
   "metadata": {},
   "outputs": [],
   "source": [
    "good_inds, = np.nonzero(skopt_res.func_vals <= -0.95)\n",
    "for conf_num, good_ind in enumerate(good_inds, start=1):\n",
    "    print(f\"Good config at index {good_ind} ({conf_num}/{len(good_inds)}):\")\n",
    "    for dimension, value in zip(skopt_res.space.dimensions, skopt_res.x_iters[good_ind]):\n",
    "        print(f'    {dimension.name} = {value}')\n",
    "        \n",
    "print('Amalgamated \"good\" configs:')\n",
    "for dim_idx, dimension in enumerate(skopt_res.space.dimensions):\n",
    "    values = [skopt_res.x_iters[i][dim_idx] for i in good_inds]\n",
    "    if isinstance(values[0], float):\n",
    "        values_str = f\"[{', '.join('%.3g' % v for v in values)}]\"\n",
    "    else:\n",
    "        values_str = str(values)\n",
    "    print(f'    {dimension.name} = {values_str}')"
   ]
  },
  {
   "cell_type": "code",
   "execution_count": null,
   "metadata": {},
   "outputs": [],
   "source": []
  }
 ],
 "metadata": {
  "kernelspec": {
   "display_name": "Python 3",
   "language": "python",
   "name": "python3"
  },
  "language_info": {
   "codemirror_mode": {
    "name": "ipython",
    "version": 3
   },
   "file_extension": ".py",
   "mimetype": "text/x-python",
   "name": "python",
   "nbconvert_exporter": "python",
   "pygments_lexer": "ipython3",
   "version": "3.7.5"
  }
 },
 "nbformat": 4,
 "nbformat_minor": 4
}
