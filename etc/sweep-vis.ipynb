{
 "cells": [
  {
   "cell_type": "markdown",
   "metadata": {},
   "source": [
    "# Visualising results of GAIL hyperparmeter sweep"
   ]
  },
  {
   "cell_type": "code",
   "execution_count": null,
   "metadata": {},
   "outputs": [],
   "source": [
    "%matplotlib inline"
   ]
  },
  {
   "cell_type": "code",
   "execution_count": null,
   "metadata": {},
   "outputs": [],
   "source": [
    "import cloudpickle\n",
    "import glob\n",
    "import matplotlib.pyplot as plt\n",
    "import seaborn as sns\n",
    "import pandas as pd\n",
    "import numpy as np\n",
    "from skopt.plots import plot_evaluations, plot_objective"
   ]
  },
  {
   "cell_type": "code",
   "execution_count": null,
   "metadata": {},
   "outputs": [],
   "source": [
    "sns.set(context='notebook', style='darkgrid')"
   ]
  },
  {
   "cell_type": "code",
   "execution_count": null,
   "metadata": {},
   "outputs": [],
   "source": [
    "pickle_path = glob.glob('../ray-tune-results/ray_tune_trial/search-alg-*.pkl')[-1]\n",
    "with open(pickle_path, 'rb') as fp:\n",
    "    _, skopt_alg = cloudpickle.load(fp)\n",
    "skopt_res = skopt_alg.get_result()"
   ]
  },
  {
   "cell_type": "code",
   "execution_count": null,
   "metadata": {},
   "outputs": [],
   "source": [
    "_ = plot_evaluations(skopt_res)"
   ]
  },
  {
   "cell_type": "code",
   "execution_count": null,
   "metadata": {},
   "outputs": [],
   "source": [
    "_ = plot_objective(skopt_res, n_samples=40) # , minimum='expected_minimum_random', n_minimum_search=1000)"
   ]
  },
  {
   "cell_type": "code",
   "execution_count": null,
   "metadata": {},
   "outputs": [],
   "source": [
    "n_results = len(skopt_res.func_vals)\n",
    "sns.distplot(skopt_res.func_vals, rug=True, norm_hist=False, kde=False, bins=10 if n_results >= 20 else None)\n",
    "plt.title(f\"Negative final score distribution from {n_results} runs (lower = better)\")\n",
    "plt.xlabel(\"Negative final score\")\n",
    "plt.ylabel(\"Frequency\")\n",
    "plt.show()"
   ]
  },
  {
   "cell_type": "code",
   "execution_count": null,
   "metadata": {},
   "outputs": [],
   "source": [
    "import skopt\n",
    "import matplotlib\n",
    "import jupyterlab\n",
    "print('skopt:', skopt.__version__)\n",
    "print('seaborn:', sns.__version__)\n",
    "print('matplotlib:', matplotlib.__version__)\n",
    "print('jupyterlab:', jupyterlab.__version__)"
   ]
  },
  {
   "cell_type": "code",
   "execution_count": null,
   "metadata": {},
   "outputs": [],
   "source": [
    "from skopt.utils import expected_minimum_random_sampling\n",
    "skopt_min = expected_minimum_random_sampling(skopt_res, n_random_starts=100000)\n",
    "print(\"minimum from random sampling:\", skopt_min)"
   ]
  },
  {
   "cell_type": "code",
   "execution_count": null,
   "metadata": {},
   "outputs": [],
   "source": [
    "skopt_minima = []\n",
    "for i in range(10):\n",
    "    skopt_min = expected_minimum_random_sampling(skopt_res, n_random_starts=1000000)\n",
    "    skopt_minima.append(skopt_min[0])\n",
    "print('Minimum from random sampling:')\n",
    "for idx, dim in enumerate(skopt_res.space.dimensions):\n",
    "    name = dim.name\n",
    "    values = [m[idx] for m in skopt_minima]\n",
    "    if isinstance(values[0], float):\n",
    "        stringified = [f'{v:.3g}' for v in values]\n",
    "    else:\n",
    "        stringified = map(str, values)\n",
    "    min_str = f'  {name} = [{\", \".join(stringified)}]'\n",
    "    print(min_str)"
   ]
  },
  {
   "cell_type": "code",
   "execution_count": null,
   "metadata": {},
   "outputs": [],
   "source": [
    "thresh = 0.7\n",
    "good_inds, = np.nonzero(skopt_res.func_vals <= -thresh)\n",
    "for conf_num, good_ind in enumerate(good_inds, start=1):\n",
    "    print(f\"Good config at index {good_ind} ({conf_num}/{len(good_inds)}), thresh {thresh}:\")\n",
    "    # TODO: print function value here too\n",
    "    for dimension, value in zip(skopt_res.space.dimensions, skopt_res.x_iters[good_ind]):\n",
    "        print(f'    {dimension.name} = {value}')\n",
    "        \n",
    "print(f'Amalgamated \"good\" configs at thresh {thresh}:')\n",
    "for dim_idx, dimension in enumerate(skopt_res.space.dimensions):\n",
    "    values = [skopt_res.x_iters[i][dim_idx] for i in good_inds]\n",
    "    if isinstance(values[0], float):\n",
    "        values_str = f\"[{', '.join('%.3g' % v for v in values)}]\"\n",
    "    else:\n",
    "        values_str = str(values)\n",
    "    print(f'    {dimension.name} = {values_str}')"
   ]
  },
  {
   "cell_type": "code",
   "execution_count": null,
   "metadata": {},
   "outputs": [],
   "source": []
  }
 ],
 "metadata": {
  "kernelspec": {
   "display_name": "Python 3",
   "language": "python",
   "name": "python3"
  },
  "language_info": {
   "codemirror_mode": {
    "name": "ipython",
    "version": 3
   },
   "file_extension": ".py",
   "mimetype": "text/x-python",
   "name": "python",
   "nbconvert_exporter": "python",
   "pygments_lexer": "ipython3",
   "version": "3.7.5"
  }
 },
 "nbformat": 4,
 "nbformat_minor": 4
}
