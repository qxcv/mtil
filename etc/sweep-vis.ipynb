{
 "cells": [
  {
   "cell_type": "markdown",
   "metadata": {},
   "source": [
    "# Visualising results of GAIL hyperparmeter sweep"
   ]
  },
  {
   "cell_type": "code",
   "execution_count": null,
   "metadata": {},
   "outputs": [],
   "source": [
    "%matplotlib inline"
   ]
  },
  {
   "cell_type": "code",
   "execution_count": null,
   "metadata": {},
   "outputs": [],
   "source": [
    "import cloudpickle\n",
    "import glob\n",
    "import matplotlib.pyplot as plt\n",
    "import seaborn as sns\n",
    "import pandas as pd\n",
    "import numpy as np\n",
    "from skopt.plots import plot_evaluations, plot_objective"
   ]
  },
  {
   "cell_type": "code",
   "execution_count": null,
   "metadata": {},
   "outputs": [],
   "source": [
    "sns.set(context='notebook', style='darkgrid')"
   ]
  },
  {
   "cell_type": "code",
   "execution_count": null,
   "metadata": {},
   "outputs": [],
   "source": [
    "pickle_path = glob.glob('../ray-tune-results/ray_tune_trial/search-alg-*.pkl')[-1]\n",
    "with open(pickle_path, 'rb') as fp:\n",
    "    _, skopt_alg = cloudpickle.load(fp)\n",
    "skopt_res = skopt_alg.get_result()\n",
    "dim_names = [\n",
    "    'omit_noop', 'disc_up_per_iter', 'disc_replay_mult', 'disc_lr', 'disc_use_act',\n",
    "    'disc_all_frames', 'sampler_time_steps', 'sampler_batch_envs', 'ppo_lr',\n",
    "    'ppo_gamma', 'ppo_lambda', 'ppo_ent', 'ppo_adv_clip', 'ppo_norm_adv'\n",
    "]"
   ]
  },
  {
   "cell_type": "code",
   "execution_count": null,
   "metadata": {},
   "outputs": [],
   "source": [
    "_ = plot_evaluations(skopt_res)  # , dimensions=dim_names)\n",
    "_ = plot_objective(skopt_res, n_samples=40)  # , dimensions=dim_names)"
   ]
  },
  {
   "cell_type": "code",
   "execution_count": null,
   "metadata": {},
   "outputs": [],
   "source": [
    "sns.distplot(skopt_res.func_vals)\n",
    "plt.title(\"Negative final score distribution (lower = better)\")\n",
    "plt.xlabel(\"Negative final score\")\n",
    "plt.ylabel(\"Frequency\")\n",
    "plt.show()"
   ]
  }
 ],
 "metadata": {
  "kernelspec": {
   "display_name": "Python 3",
   "language": "python",
   "name": "python3"
  },
  "language_info": {
   "codemirror_mode": {
    "name": "ipython",
    "version": 3
   },
   "file_extension": ".py",
   "mimetype": "text/x-python",
   "name": "python",
   "nbconvert_exporter": "python",
   "pygments_lexer": "ipython3",
   "version": "3.7.5"
  }
 },
 "nbformat": 4,
 "nbformat_minor": 4
}
